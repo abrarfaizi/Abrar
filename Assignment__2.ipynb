{
 "cells": [
  {
   "cell_type": "markdown",
   "metadata": {},
   "source": [
    "# The ABC company has hired you as an intern on the coding team that creates e-commerce applications.  \n",
    "You must write a script that asks the user for a value. The value must be used as a whole number in a calculation, even if the user enters a decimal value. \n",
    "\n",
    "You need to write the code to meet the requirements."
   ]
  },
  {
   "cell_type": "code",
   "execution_count": 9,
   "metadata": {},
   "outputs": [
    {
     "name": "stdout",
     "output_type": "stream",
     "text": [
      "Enter a number:54.5\n",
      "your total marks is  54\n",
      "thanks you are selected\n"
     ]
    }
   ],
   "source": [
    "user_input = float(input(\"Enter a number:\"))\n",
    "total_marks= int(user_input)\n",
    "print(\"your total marks is \",total_marks)\n",
    "print(\"thanks you are selected\")"
   ]
  },
  {
   "cell_type": "code",
   "execution_count": 10,
   "metadata": {},
   "outputs": [
    {
     "name": "stdout",
     "output_type": "stream",
     "text": [
      "Enter a number:43.6\n"
     ]
    }
   ],
   "source": [
    "user_input = float(input(\"Enter a number:\"))\n"
   ]
  },
  {
   "cell_type": "markdown",
   "metadata": {},
   "source": [
    "# You are creating a Python program that shows a congratulation message to employees on their service anniversary.\n",
    "You need to calculate the number of years of service and print a congratulatory message."
   ]
  },
  {
   "cell_type": "code",
   "execution_count": 12,
   "metadata": {},
   "outputs": [
    {
     "name": "stdout",
     "output_type": "stream",
     "text": [
      "enter your joining year:1991\n",
      "enter your current year:2019\n",
      "congratulations! you give good services\n",
      "28\n"
     ]
    }
   ],
   "source": [
    "year_of_joining = int(input(\"enter your joining year:\"))\n",
    "current_year = int(input(\"enter your current year:\"))\n",
    "service = current_year - year_of_joining\n",
    "print (\"congratulations! you give good services\")\n",
    "print (service)"
   ]
  },
  {
   "cell_type": "code",
   "execution_count": null,
   "metadata": {},
   "outputs": [],
   "source": []
  },
  {
   "cell_type": "code",
   "execution_count": null,
   "metadata": {},
   "outputs": [],
   "source": []
  },
  {
   "cell_type": "markdown",
   "metadata": {},
   "source": [
    "# Write a Python program to convert temperatures  from fahrenheit to celsius, \n",
    "#step 1: take \"fahrenheit Temperature\" from user in integer data type\n",
    "#step 2: apply formula that is       (  C = (5/9) * (fahrenheit_temperature - 32)  )\n",
    "#step 3: print step 2. "
   ]
  },
  {
   "cell_type": "code",
   "execution_count": 15,
   "metadata": {},
   "outputs": [
    {
     "name": "stdout",
     "output_type": "stream",
     "text": [
      "enter temperature in fahrenheit :84\n",
      "temperature in celsius is :\n",
      "28\n"
     ]
    }
   ],
   "source": [
    "fahrenheit_temp = int (input(\"enter temperature in fahrenheit :\"))\n",
    "c= int ( (5/9)*(fahrenheit_temp-32) )\n",
    "print(\"temperature in celsius is :\")\n",
    "print (c)"
   ]
  },
  {
   "cell_type": "code",
   "execution_count": null,
   "metadata": {},
   "outputs": [],
   "source": []
  },
  {
   "cell_type": "code",
   "execution_count": null,
   "metadata": {},
   "outputs": [],
   "source": []
  },
  {
   "cell_type": "markdown",
   "metadata": {},
   "source": [
    "<h3>assign a vlue to grade by checking the following conditions:: </h3>\n",
    "<h3>if % is greater then and equal to 90 and less then 100 grade is A+ </h3>\n",
    "<h3>if % is greater then and equal to 80 and less then 90 grade is A </h3>\n",
    "<h3>if % is greater then and equal to 70 and less then 80 grade is B </h3>\n",
    "<h3>if % is greater then and equal to 60 and less then 70 grade is C </h3>\n",
    "<h3>if % is less than 60 grade is FAIL </h3>\n"
   ]
  },
  {
   "cell_type": "code",
   "execution_count": 18,
   "metadata": {},
   "outputs": [
    {
     "name": "stdout",
     "output_type": "stream",
     "text": [
      "enter marks of physics: 54\n",
      "enter marks of maths: 65\n",
      "enter marks of english: 75\n",
      "enter marks of urdu: 54\n",
      "enter marks of islamiat: 65\n",
      "enter marks of chemistry: 46\n",
      "E grade \n",
      "total percentage is:\n",
      "59.833333333333336\n"
     ]
    }
   ],
   "source": [
    "a = int(input(\"enter marks of physics: \"))\n",
    "b = int(input(\"enter marks of maths: \"))\n",
    "c = int(input(\"enter marks of english: \"))\n",
    "d = int(input(\"enter marks of urdu: \"))\n",
    "e = int(input(\"enter marks of islamiat: \"))\n",
    "g = int(input(\"enter marks of chemistry: \"))\n",
    "f = (a+b+c+d+e+g)/6\n",
    "if (f>=90):\n",
    "    print(\"A.one grade \")\n",
    "    print(\"total percentage is:\")\n",
    "    print (f)\n",
    "elif (f>=80):\n",
    "    print (\"A grade \")\n",
    "    print(\"total percentage is:\")\n",
    "    print (f)\n",
    "elif (f>=70):\n",
    "    print (\"B grade \")\n",
    "    print(\"total percentage is:\")\n",
    "    print (f)\n",
    "elif (f>=60):\n",
    "    print (\"C grade\")\n",
    "    print(\"total percentage is:\")\n",
    "    print (f)\n",
    "elif (f>=50):\n",
    "    print (\"E grade \")\n",
    "    print(\"total percentage is:\")\n",
    "    print (f)\n",
    "else:\n",
    "    print (\" Fail \")\n",
    "    print(\"total percentage is:\")\n",
    "    print (f)"
   ]
  },
  {
   "cell_type": "code",
   "execution_count": null,
   "metadata": {},
   "outputs": [],
   "source": []
  },
  {
   "cell_type": "code",
   "execution_count": null,
   "metadata": {},
   "outputs": [],
   "source": []
  },
  {
   "cell_type": "markdown",
   "metadata": {},
   "source": [
    "<h3>Print grade percentage and obtained marks</h3>"
   ]
  },
  {
   "cell_type": "code",
   "execution_count": null,
   "metadata": {},
   "outputs": [],
   "source": []
  }
 ],
 "metadata": {
  "kernelspec": {
   "display_name": "Python 3",
   "language": "python",
   "name": "python3"
  },
  "language_info": {
   "codemirror_mode": {
    "name": "ipython",
    "version": 3
   },
   "file_extension": ".py",
   "mimetype": "text/x-python",
   "name": "python",
   "nbconvert_exporter": "python",
   "pygments_lexer": "ipython3",
   "version": "3.7.3"
  }
 },
 "nbformat": 4,
 "nbformat_minor": 2
}
